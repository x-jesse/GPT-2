{
 "cells": [
  {
   "cell_type": "code",
   "execution_count": 10,
   "metadata": {},
   "outputs": [],
   "source": [
    "import torch\n",
    "import torch.nn as nn"
   ]
  },
  {
   "cell_type": "code",
   "execution_count": 28,
   "metadata": {},
   "outputs": [
    {
     "name": "stdout",
     "output_type": "stream",
     "text": [
      "tensor([[-1.0895, -1.3659, -0.0222,  2.2843],\n",
      "        [ 3.2801, -1.0257, -1.6150,  0.5887],\n",
      "        [ 0.8837,  0.1968,  0.9648,  1.4358],\n",
      "        [ 0.9159,  1.3028,  0.5646,  0.9406]])\n"
     ]
    },
    {
     "data": {
      "text/plain": [
       "tensor([[[-1.0895, -1.3659, -0.0222,  2.2843]],\n",
       "\n",
       "        [[ 3.2801, -1.0257, -1.6150,  0.5887]],\n",
       "\n",
       "        [[ 0.8837,  0.1968,  0.9648,  1.4358]],\n",
       "\n",
       "        [[ 0.9159,  1.3028,  0.5646,  0.9406]]])"
      ]
     },
     "execution_count": 28,
     "metadata": {},
     "output_type": "execute_result"
    }
   ],
   "source": [
    "t = torch.randn(4, 4)\n",
    "print(t)\n",
    "t.view(4, 1, 4)"
   ]
  },
  {
   "cell_type": "code",
   "execution_count": 24,
   "metadata": {},
   "outputs": [],
   "source": [
    "t = t.view(1, 1, 4, 4) "
   ]
  },
  {
   "cell_type": "code",
   "execution_count": 11,
   "metadata": {},
   "outputs": [],
   "source": [
    "n = nn.Linear(4, 4)"
   ]
  },
  {
   "cell_type": "code",
   "execution_count": 20,
   "metadata": {},
   "outputs": [
    {
     "data": {
      "text/plain": [
       "tensor([[[[ 1.2773, -0.5294, -0.7726,  0.3458],\n",
       "          [ 0.2932, -0.1884,  0.1809,  0.0827],\n",
       "          [-0.2335,  0.1444,  0.9706,  0.3253],\n",
       "          [ 0.5928, -0.8313, -0.1011,  0.3947]]]], grad_fn=<ViewBackward0>)"
      ]
     },
     "execution_count": 20,
     "metadata": {},
     "output_type": "execute_result"
    }
   ],
   "source": [
    "# n(torch.tensor([[1]], dtype=torch.float32))\n",
    "n(t)"
   ]
  }
 ],
 "metadata": {
  "kernelspec": {
   "display_name": "venv",
   "language": "python",
   "name": "python3"
  },
  "language_info": {
   "codemirror_mode": {
    "name": "ipython",
    "version": 3
   },
   "file_extension": ".py",
   "mimetype": "text/x-python",
   "name": "python",
   "nbconvert_exporter": "python",
   "pygments_lexer": "ipython3",
   "version": "3.11.4"
  }
 },
 "nbformat": 4,
 "nbformat_minor": 2
}
